{
  "nbformat": 4,
  "nbformat_minor": 0,
  "metadata": {
    "colab": {
      "provenance": [],
      "mount_file_id": "1mC6k6TbcbI83sXq9dZKsgjBdKNVXUCrf",
      "authorship_tag": "ABX9TyPy8whdiOrlK0BQapJrFUK6",
      "include_colab_link": true
    },
    "kernelspec": {
      "name": "python3",
      "display_name": "Python 3"
    },
    "language_info": {
      "name": "python"
    }
  },
  "cells": [
    {
      "cell_type": "markdown",
      "metadata": {
        "id": "view-in-github",
        "colab_type": "text"
      },
      "source": [
        "<a href=\"https://colab.research.google.com/github/dhanyashree02/Samsung-innovation-Campus/blob/main/Regression/Garbage_regression.ipynb\" target=\"_parent\"><img src=\"https://colab.research.google.com/assets/colab-badge.svg\" alt=\"Open In Colab\"/></a>"
      ]
    },
    {
      "cell_type": "code",
      "execution_count": null,
      "metadata": {
        "id": "oHXd4XNERxI7"
      },
      "outputs": [],
      "source": [
        "data = '/content/drive/MyDrive/0.Samsung CSR AIML/Resources/SIC-Artificial-Intelligence/SIC_AI_Coding_Exercises/SIC_AI_Chapter_06_Coding_Exercises/garbage.csv'"
      ]
    },
    {
      "cell_type": "code",
      "source": [
        "import numpy as np\n",
        "import pandas as pd\n",
        "import matplotlib.pyplot as plt\n",
        "import seaborn as sns\n",
        "from sklearn.model_selection import train_test_split\n",
        "from sklearn.linear_model import LogisticRegression\n",
        "from sklearn import metrics\n",
        "%matplotlib inline"
      ],
      "metadata": {
        "id": "dfbw4GiNSVLt"
      },
      "execution_count": null,
      "outputs": []
    },
    {
      "cell_type": "code",
      "source": [
        "df = pd.read_csv(data)\n",
        "\n",
        "# Display the first few rows of the DataFrame\n",
        "display(df.head())"
      ],
      "metadata": {
        "colab": {
          "base_uri": "https://localhost:8080/",
          "height": 206
        },
        "id": "hjr3owpnSYde",
        "outputId": "0cc3b44e-ff0b-4f76-c45e-0db689c1d704"
      },
      "execution_count": null,
      "outputs": [
        {
          "output_type": "display_data",
          "data": {
            "text/plain": [
              "   Unnamed: 0  weight   volume  moisture_content  organic_content  \\\n",
              "0           0  288.20  1166.79             40.05             1.73   \n",
              "1           1  220.01  1267.74             41.09            56.69   \n",
              "2           2  248.94   873.31             10.33            63.33   \n",
              "3           3  312.04  1031.41             51.91            12.54   \n",
              "4           4  293.38  1068.42              9.68            61.05   \n",
              "\n",
              "         source waste_type  label  \n",
              "0     household      metal      0  \n",
              "1     household      paper      0  \n",
              "2  agricultural      paper      0  \n",
              "3  agricultural      metal      0  \n",
              "4  agricultural      paper      0  "
            ],
            "text/html": [
              "\n",
              "  <div id=\"df-b10fd0fc-e1b4-428a-8548-5d38139bc364\" class=\"colab-df-container\">\n",
              "    <div>\n",
              "<style scoped>\n",
              "    .dataframe tbody tr th:only-of-type {\n",
              "        vertical-align: middle;\n",
              "    }\n",
              "\n",
              "    .dataframe tbody tr th {\n",
              "        vertical-align: top;\n",
              "    }\n",
              "\n",
              "    .dataframe thead th {\n",
              "        text-align: right;\n",
              "    }\n",
              "</style>\n",
              "<table border=\"1\" class=\"dataframe\">\n",
              "  <thead>\n",
              "    <tr style=\"text-align: right;\">\n",
              "      <th></th>\n",
              "      <th>Unnamed: 0</th>\n",
              "      <th>weight</th>\n",
              "      <th>volume</th>\n",
              "      <th>moisture_content</th>\n",
              "      <th>organic_content</th>\n",
              "      <th>source</th>\n",
              "      <th>waste_type</th>\n",
              "      <th>label</th>\n",
              "    </tr>\n",
              "  </thead>\n",
              "  <tbody>\n",
              "    <tr>\n",
              "      <th>0</th>\n",
              "      <td>0</td>\n",
              "      <td>288.20</td>\n",
              "      <td>1166.79</td>\n",
              "      <td>40.05</td>\n",
              "      <td>1.73</td>\n",
              "      <td>household</td>\n",
              "      <td>metal</td>\n",
              "      <td>0</td>\n",
              "    </tr>\n",
              "    <tr>\n",
              "      <th>1</th>\n",
              "      <td>1</td>\n",
              "      <td>220.01</td>\n",
              "      <td>1267.74</td>\n",
              "      <td>41.09</td>\n",
              "      <td>56.69</td>\n",
              "      <td>household</td>\n",
              "      <td>paper</td>\n",
              "      <td>0</td>\n",
              "    </tr>\n",
              "    <tr>\n",
              "      <th>2</th>\n",
              "      <td>2</td>\n",
              "      <td>248.94</td>\n",
              "      <td>873.31</td>\n",
              "      <td>10.33</td>\n",
              "      <td>63.33</td>\n",
              "      <td>agricultural</td>\n",
              "      <td>paper</td>\n",
              "      <td>0</td>\n",
              "    </tr>\n",
              "    <tr>\n",
              "      <th>3</th>\n",
              "      <td>3</td>\n",
              "      <td>312.04</td>\n",
              "      <td>1031.41</td>\n",
              "      <td>51.91</td>\n",
              "      <td>12.54</td>\n",
              "      <td>agricultural</td>\n",
              "      <td>metal</td>\n",
              "      <td>0</td>\n",
              "    </tr>\n",
              "    <tr>\n",
              "      <th>4</th>\n",
              "      <td>4</td>\n",
              "      <td>293.38</td>\n",
              "      <td>1068.42</td>\n",
              "      <td>9.68</td>\n",
              "      <td>61.05</td>\n",
              "      <td>agricultural</td>\n",
              "      <td>paper</td>\n",
              "      <td>0</td>\n",
              "    </tr>\n",
              "  </tbody>\n",
              "</table>\n",
              "</div>\n",
              "    <div class=\"colab-df-buttons\">\n",
              "\n",
              "  <div class=\"colab-df-container\">\n",
              "    <button class=\"colab-df-convert\" onclick=\"convertToInteractive('df-b10fd0fc-e1b4-428a-8548-5d38139bc364')\"\n",
              "            title=\"Convert this dataframe to an interactive table.\"\n",
              "            style=\"display:none;\">\n",
              "\n",
              "  <svg xmlns=\"http://www.w3.org/2000/svg\" height=\"24px\" viewBox=\"0 -960 960 960\">\n",
              "    <path d=\"M120-120v-720h720v720H120Zm60-500h600v-160H180v160Zm220 220h160v-160H400v160Zm0 220h160v-160H400v160ZM180-400h160v-160H180v160Zm440 0h160v-160H620v160ZM180-180h160v-160H180v160Zm440 0h160v-160H620v160Z\"/>\n",
              "  </svg>\n",
              "    </button>\n",
              "\n",
              "  <style>\n",
              "    .colab-df-container {\n",
              "      display:flex;\n",
              "      gap: 12px;\n",
              "    }\n",
              "\n",
              "    .colab-df-convert {\n",
              "      background-color: #E8F0FE;\n",
              "      border: none;\n",
              "      border-radius: 50%;\n",
              "      cursor: pointer;\n",
              "      display: none;\n",
              "      fill: #1967D2;\n",
              "      height: 32px;\n",
              "      padding: 0 0 0 0;\n",
              "      width: 32px;\n",
              "    }\n",
              "\n",
              "    .colab-df-convert:hover {\n",
              "      background-color: #E2EBFA;\n",
              "      box-shadow: 0px 1px 2px rgba(60, 64, 67, 0.3), 0px 1px 3px 1px rgba(60, 64, 67, 0.15);\n",
              "      fill: #174EA6;\n",
              "    }\n",
              "\n",
              "    .colab-df-buttons div {\n",
              "      margin-bottom: 4px;\n",
              "    }\n",
              "\n",
              "    [theme=dark] .colab-df-convert {\n",
              "      background-color: #3B4455;\n",
              "      fill: #D2E3FC;\n",
              "    }\n",
              "\n",
              "    [theme=dark] .colab-df-convert:hover {\n",
              "      background-color: #434B5C;\n",
              "      box-shadow: 0px 1px 3px 1px rgba(0, 0, 0, 0.15);\n",
              "      filter: drop-shadow(0px 1px 2px rgba(0, 0, 0, 0.3));\n",
              "      fill: #FFFFFF;\n",
              "    }\n",
              "  </style>\n",
              "\n",
              "    <script>\n",
              "      const buttonEl =\n",
              "        document.querySelector('#df-b10fd0fc-e1b4-428a-8548-5d38139bc364 button.colab-df-convert');\n",
              "      buttonEl.style.display =\n",
              "        google.colab.kernel.accessAllowed ? 'block' : 'none';\n",
              "\n",
              "      async function convertToInteractive(key) {\n",
              "        const element = document.querySelector('#df-b10fd0fc-e1b4-428a-8548-5d38139bc364');\n",
              "        const dataTable =\n",
              "          await google.colab.kernel.invokeFunction('convertToInteractive',\n",
              "                                                    [key], {});\n",
              "        if (!dataTable) return;\n",
              "\n",
              "        const docLinkHtml = 'Like what you see? Visit the ' +\n",
              "          '<a target=\"_blank\" href=https://colab.research.google.com/notebooks/data_table.ipynb>data table notebook</a>'\n",
              "          + ' to learn more about interactive tables.';\n",
              "        element.innerHTML = '';\n",
              "        dataTable['output_type'] = 'display_data';\n",
              "        await google.colab.output.renderOutput(dataTable, element);\n",
              "        const docLink = document.createElement('div');\n",
              "        docLink.innerHTML = docLinkHtml;\n",
              "        element.appendChild(docLink);\n",
              "      }\n",
              "    </script>\n",
              "  </div>\n",
              "\n",
              "\n",
              "    <div id=\"df-4425d41d-28e4-49bb-8fc0-71c3257ae204\">\n",
              "      <button class=\"colab-df-quickchart\" onclick=\"quickchart('df-4425d41d-28e4-49bb-8fc0-71c3257ae204')\"\n",
              "                title=\"Suggest charts\"\n",
              "                style=\"display:none;\">\n",
              "\n",
              "<svg xmlns=\"http://www.w3.org/2000/svg\" height=\"24px\"viewBox=\"0 0 24 24\"\n",
              "     width=\"24px\">\n",
              "    <g>\n",
              "        <path d=\"M19 3H5c-1.1 0-2 .9-2 2v14c0 1.1.9 2 2 2h14c1.1 0 2-.9 2-2V5c0-1.1-.9-2-2-2zM9 17H7v-7h2v7zm4 0h-2V7h2v10zm4 0h-2v-4h2v4z\"/>\n",
              "    </g>\n",
              "</svg>\n",
              "      </button>\n",
              "\n",
              "<style>\n",
              "  .colab-df-quickchart {\n",
              "      --bg-color: #E8F0FE;\n",
              "      --fill-color: #1967D2;\n",
              "      --hover-bg-color: #E2EBFA;\n",
              "      --hover-fill-color: #174EA6;\n",
              "      --disabled-fill-color: #AAA;\n",
              "      --disabled-bg-color: #DDD;\n",
              "  }\n",
              "\n",
              "  [theme=dark] .colab-df-quickchart {\n",
              "      --bg-color: #3B4455;\n",
              "      --fill-color: #D2E3FC;\n",
              "      --hover-bg-color: #434B5C;\n",
              "      --hover-fill-color: #FFFFFF;\n",
              "      --disabled-bg-color: #3B4455;\n",
              "      --disabled-fill-color: #666;\n",
              "  }\n",
              "\n",
              "  .colab-df-quickchart {\n",
              "    background-color: var(--bg-color);\n",
              "    border: none;\n",
              "    border-radius: 50%;\n",
              "    cursor: pointer;\n",
              "    display: none;\n",
              "    fill: var(--fill-color);\n",
              "    height: 32px;\n",
              "    padding: 0;\n",
              "    width: 32px;\n",
              "  }\n",
              "\n",
              "  .colab-df-quickchart:hover {\n",
              "    background-color: var(--hover-bg-color);\n",
              "    box-shadow: 0 1px 2px rgba(60, 64, 67, 0.3), 0 1px 3px 1px rgba(60, 64, 67, 0.15);\n",
              "    fill: var(--button-hover-fill-color);\n",
              "  }\n",
              "\n",
              "  .colab-df-quickchart-complete:disabled,\n",
              "  .colab-df-quickchart-complete:disabled:hover {\n",
              "    background-color: var(--disabled-bg-color);\n",
              "    fill: var(--disabled-fill-color);\n",
              "    box-shadow: none;\n",
              "  }\n",
              "\n",
              "  .colab-df-spinner {\n",
              "    border: 2px solid var(--fill-color);\n",
              "    border-color: transparent;\n",
              "    border-bottom-color: var(--fill-color);\n",
              "    animation:\n",
              "      spin 1s steps(1) infinite;\n",
              "  }\n",
              "\n",
              "  @keyframes spin {\n",
              "    0% {\n",
              "      border-color: transparent;\n",
              "      border-bottom-color: var(--fill-color);\n",
              "      border-left-color: var(--fill-color);\n",
              "    }\n",
              "    20% {\n",
              "      border-color: transparent;\n",
              "      border-left-color: var(--fill-color);\n",
              "      border-top-color: var(--fill-color);\n",
              "    }\n",
              "    30% {\n",
              "      border-color: transparent;\n",
              "      border-left-color: var(--fill-color);\n",
              "      border-top-color: var(--fill-color);\n",
              "      border-right-color: var(--fill-color);\n",
              "    }\n",
              "    40% {\n",
              "      border-color: transparent;\n",
              "      border-right-color: var(--fill-color);\n",
              "      border-top-color: var(--fill-color);\n",
              "    }\n",
              "    60% {\n",
              "      border-color: transparent;\n",
              "      border-right-color: var(--fill-color);\n",
              "    }\n",
              "    80% {\n",
              "      border-color: transparent;\n",
              "      border-right-color: var(--fill-color);\n",
              "      border-bottom-color: var(--fill-color);\n",
              "    }\n",
              "    90% {\n",
              "      border-color: transparent;\n",
              "      border-bottom-color: var(--fill-color);\n",
              "    }\n",
              "  }\n",
              "</style>\n",
              "\n",
              "      <script>\n",
              "        async function quickchart(key) {\n",
              "          const quickchartButtonEl =\n",
              "            document.querySelector('#' + key + ' button');\n",
              "          quickchartButtonEl.disabled = true;  // To prevent multiple clicks.\n",
              "          quickchartButtonEl.classList.add('colab-df-spinner');\n",
              "          try {\n",
              "            const charts = await google.colab.kernel.invokeFunction(\n",
              "                'suggestCharts', [key], {});\n",
              "          } catch (error) {\n",
              "            console.error('Error during call to suggestCharts:', error);\n",
              "          }\n",
              "          quickchartButtonEl.classList.remove('colab-df-spinner');\n",
              "          quickchartButtonEl.classList.add('colab-df-quickchart-complete');\n",
              "        }\n",
              "        (() => {\n",
              "          let quickchartButtonEl =\n",
              "            document.querySelector('#df-4425d41d-28e4-49bb-8fc0-71c3257ae204 button');\n",
              "          quickchartButtonEl.style.display =\n",
              "            google.colab.kernel.accessAllowed ? 'block' : 'none';\n",
              "        })();\n",
              "      </script>\n",
              "    </div>\n",
              "\n",
              "    </div>\n",
              "  </div>\n"
            ],
            "application/vnd.google.colaboratory.intrinsic+json": {
              "type": "dataframe",
              "summary": "{\n  \"name\": \"display(df\",\n  \"rows\": 5,\n  \"fields\": [\n    {\n      \"column\": \"Unnamed: 0\",\n      \"properties\": {\n        \"dtype\": \"number\",\n        \"std\": 1,\n        \"min\": 0,\n        \"max\": 4,\n        \"num_unique_values\": 5,\n        \"samples\": [\n          1,\n          4,\n          2\n        ],\n        \"semantic_type\": \"\",\n        \"description\": \"\"\n      }\n    },\n    {\n      \"column\": \"weight\",\n      \"properties\": {\n        \"dtype\": \"number\",\n        \"std\": 37.269789105923316,\n        \"min\": 220.01,\n        \"max\": 312.04,\n        \"num_unique_values\": 5,\n        \"samples\": [\n          220.01,\n          293.38,\n          248.94\n        ],\n        \"semantic_type\": \"\",\n        \"description\": \"\"\n      }\n    },\n    {\n      \"column\": \"volume\",\n      \"properties\": {\n        \"dtype\": \"number\",\n        \"std\": 148.30954665833215,\n        \"min\": 873.31,\n        \"max\": 1267.74,\n        \"num_unique_values\": 5,\n        \"samples\": [\n          1267.74,\n          1068.42,\n          873.31\n        ],\n        \"semantic_type\": \"\",\n        \"description\": \"\"\n      }\n    },\n    {\n      \"column\": \"moisture_content\",\n      \"properties\": {\n        \"dtype\": \"number\",\n        \"std\": 19.37767581522614,\n        \"min\": 9.68,\n        \"max\": 51.91,\n        \"num_unique_values\": 5,\n        \"samples\": [\n          41.09,\n          9.68,\n          10.33\n        ],\n        \"semantic_type\": \"\",\n        \"description\": \"\"\n      }\n    },\n    {\n      \"column\": \"organic_content\",\n      \"properties\": {\n        \"dtype\": \"number\",\n        \"std\": 29.496817116427998,\n        \"min\": 1.73,\n        \"max\": 63.33,\n        \"num_unique_values\": 5,\n        \"samples\": [\n          56.69,\n          61.05,\n          63.33\n        ],\n        \"semantic_type\": \"\",\n        \"description\": \"\"\n      }\n    },\n    {\n      \"column\": \"source\",\n      \"properties\": {\n        \"dtype\": \"category\",\n        \"num_unique_values\": 2,\n        \"samples\": [\n          \"agricultural\",\n          \"household\"\n        ],\n        \"semantic_type\": \"\",\n        \"description\": \"\"\n      }\n    },\n    {\n      \"column\": \"waste_type\",\n      \"properties\": {\n        \"dtype\": \"category\",\n        \"num_unique_values\": 2,\n        \"samples\": [\n          \"paper\",\n          \"metal\"\n        ],\n        \"semantic_type\": \"\",\n        \"description\": \"\"\n      }\n    },\n    {\n      \"column\": \"label\",\n      \"properties\": {\n        \"dtype\": \"number\",\n        \"std\": 0,\n        \"min\": 0,\n        \"max\": 0,\n        \"num_unique_values\": 1,\n        \"samples\": [\n          0\n        ],\n        \"semantic_type\": \"\",\n        \"description\": \"\"\n      }\n    }\n  ]\n}"
            }
          },
          "metadata": {}
        }
      ]
    },
    {
      "cell_type": "code",
      "source": [
        "X = df.drop('source', axis=1)\n",
        "\n",
        "# To see the names of the features (columns in X):\n",
        "print(X.columns)"
      ],
      "metadata": {
        "colab": {
          "base_uri": "https://localhost:8080/"
        },
        "id": "nyEnu6klSbaf",
        "outputId": "b726727d-9231-4066-cac9-e200bd37c2a7"
      },
      "execution_count": null,
      "outputs": [
        {
          "output_type": "stream",
          "name": "stdout",
          "text": [
            "Index(['Unnamed: 0', 'weight', 'volume', 'moisture_content', 'organic_content',\n",
            "       'label', 'waste_type_metal', 'waste_type_paper', 'waste_type_plastic'],\n",
            "      dtype='object')\n"
          ]
        }
      ]
    },
    {
      "cell_type": "code",
      "source": [
        "X.shape"
      ],
      "metadata": {
        "colab": {
          "base_uri": "https://localhost:8080/"
        },
        "id": "y9TBYVo-Sk8l",
        "outputId": "1b3ae0d9-fb88-42b4-e931-de25680d4935"
      },
      "execution_count": null,
      "outputs": [
        {
          "output_type": "execute_result",
          "data": {
            "text/plain": [
              "(1000, 9)"
            ]
          },
          "metadata": {},
          "execution_count": 17
        }
      ]
    },
    {
      "cell_type": "code",
      "source": [
        "Y = df['source']"
      ],
      "metadata": {
        "id": "UlPGe3oKSqAM"
      },
      "execution_count": null,
      "outputs": []
    },
    {
      "cell_type": "code",
      "source": [
        "ser = pd.Series(Y)\n",
        "table = ser.value_counts()\n",
        "table = table.sort_index()                                         # Has to be sorted for correct labeling.\n",
        "sns.barplot(x=table.index, y=table.values)\n",
        "plt.show()"
      ],
      "metadata": {
        "colab": {
          "base_uri": "https://localhost:8080/",
          "height": 449
        },
        "id": "6AqTVWIKSvjg",
        "outputId": "7900abf4-c6b2-44d5-93ca-41ca821aa6fb"
      },
      "execution_count": null,
      "outputs": [
        {
          "output_type": "display_data",
          "data": {
            "text/plain": [
              "<Figure size 640x480 with 1 Axes>"
            ],
            "image/png": "[encoded data removed]"
          },
          "metadata": {}
        }
      ]
    },
    {
      "cell_type": "code",
      "source": [
        "X_train, X_test, Y_train, Y_test = train_test_split(X, Y, test_size=0.4, random_state=1234)"
      ],
      "metadata": {
        "id": "JTPWDuQ_S7k8"
      },
      "execution_count": null,
      "outputs": []
    },
    {
      "cell_type": "code",
      "source": [
        "print(X_train.shape)\n",
        "print(X_test.shape)\n",
        "print(Y_train.shape)\n",
        "print(Y_test.shape)"
      ],
      "metadata": {
        "colab": {
          "base_uri": "https://localhost:8080/"
        },
        "id": "WuyyM0UqS-3w",
        "outputId": "d6b5a1d0-9926-4ed1-bc39-d59f915c9ae8"
      },
      "execution_count": null,
      "outputs": [
        {
          "output_type": "stream",
          "name": "stdout",
          "text": [
            "(600, 9)\n",
            "(400, 9)\n",
            "(600,)\n",
            "(400,)\n"
          ]
        }
      ]
    },
    {
      "cell_type": "code",
      "source": [
        "LL = LogisticRegression(solver='liblinear',max_iter=200)\n",
        "LL.fit(X_train,Y_train)\n",
        "Y_pred_test = LL.predict(X_test)"
      ],
      "metadata": {
        "id": "CWw7TAhmTBiM"
      },
      "execution_count": null,
      "outputs": []
    },
    {
      "cell_type": "code",
      "source": [
        "conf_mat = metrics.confusion_matrix(Y_test,Y_pred_test)\n",
        "print(conf_mat)"
      ],
      "metadata": {
        "colab": {
          "base_uri": "https://localhost:8080/"
        },
        "id": "PVP7oOeOTDqn",
        "outputId": "b8606482-b1dd-4260-dafd-80c6267a7e49"
      },
      "execution_count": null,
      "outputs": [
        {
          "output_type": "stream",
          "name": "stdout",
          "text": [
            "[[13 39 35 11]\n",
            " [16 33 47 10]\n",
            " [14 36 45  7]\n",
            " [10 37 37 10]]\n"
          ]
        }
      ]
    },
    {
      "cell_type": "code",
      "source": [
        "conf_mat = metrics.confusion_matrix(Y_test,Y_pred_test)\n",
        "print(conf_mat)"
      ],
      "metadata": {
        "colab": {
          "base_uri": "https://localhost:8080/"
        },
        "id": "_JQlyP8PTZm6",
        "outputId": "037baf16-2a63-4905-b978-2787aff097dc"
      },
      "execution_count": null,
      "outputs": [
        {
          "output_type": "stream",
          "name": "stdout",
          "text": [
            "[[13 39 35 11]\n",
            " [16 33 47 10]\n",
            " [14 36 45  7]\n",
            " [10 37 37 10]]\n"
          ]
        }
      ]
    },
    {
      "cell_type": "code",
      "source": [
        "accuracy = metrics.accuracy_score(Y_test,Y_pred_test)                      # Alternative way to calculate the accuracy.\n",
        "sensitivity = metrics.recall_score(Y_test,Y_pred_test, average='weighted')\n",
        "precision = metrics.precision_score(Y_test,Y_pred_test, average='weighted')\n",
        "print('Accuracy    = {}'.format(np.round(accuracy,3)))\n",
        "print('Sensitvity  = {}'.format(np.round(sensitivity,3)))\n",
        "print('Precision   = {}'.format(np.round(precision,3)))"
      ],
      "metadata": {
        "colab": {
          "base_uri": "https://localhost:8080/"
        },
        "id": "CWBA7E3ATdqz",
        "outputId": "0e45e5be-a89c-4192-ab95-55e2c43a56dc"
      },
      "execution_count": null,
      "outputs": [
        {
          "output_type": "stream",
          "name": "stdout",
          "text": [
            "Accuracy    = 0.252\n",
            "Sensitvity  = 0.252\n",
            "Precision   = 0.252\n"
          ]
        }
      ]
    },
    {
      "cell_type": "code",
      "source": [
        "Y_pred_test_prob = LL.predict_proba(X_test)"
      ],
      "metadata": {
        "id": "w1sVrUskTgKL"
      },
      "execution_count": null,
      "outputs": []
    },
    {
      "cell_type": "code",
      "source": [
        "# cutoff = 0.7                                                      # cutoff can be a value between 0 and 1.\n",
        "# Y_pred_test_val = (Y_pred_test_prob > cutoff).astype(int)\n",
        "conf_mat = metrics.confusion_matrix(Y_test,Y_pred_test)\n",
        "print(conf_mat)"
      ],
      "metadata": {
        "colab": {
          "base_uri": "https://localhost:8080/"
        },
        "id": "6uuW0Ga8TpCO",
        "outputId": "eef4bb14-a754-488b-ca1b-47b0da5cec6d"
      },
      "execution_count": null,
      "outputs": [
        {
          "output_type": "stream",
          "name": "stdout",
          "text": [
            "[[13 39 35 11]\n",
            " [16 33 47 10]\n",
            " [14 36 45  7]\n",
            " [10 37 37 10]]\n"
          ]
        }
      ]
    },
    {
      "cell_type": "code",
      "source": [
        "accuracy = (conf_mat[0,0] + conf_mat[1,1])/np.sum(conf_mat)\n",
        "sensitivity = conf_mat[1,1]/(conf_mat[1,0]+conf_mat[1,1])\n",
        "specificity = conf_mat[0,0]/(conf_mat[0,0]+conf_mat[0,1])\n",
        "precision = conf_mat[1,1]/(conf_mat[0,1]+conf_mat[1,1])\n",
        "print('Accuracy    = {}'.format(np.round(accuracy,3)))\n",
        "print('Sensitvity  = {}'.format(np.round(sensitivity,3)))\n",
        "print('Specificity = {}'.format(np.round(specificity,3)))\n",
        "print('Precision   = {}'.format(np.round(precision,3)))"
      ],
      "metadata": {
        "colab": {
          "base_uri": "https://localhost:8080/"
        },
        "id": "D71RNW6OTrjA",
        "outputId": "1a5ce7c8-b068-45f4-83f5-10305909663c"
      },
      "execution_count": null,
      "outputs": [
        {
          "output_type": "stream",
          "name": "stdout",
          "text": [
            "Accuracy    = 0.115\n",
            "Sensitvity  = 0.673\n",
            "Specificity = 0.25\n",
            "Precision   = 0.458\n"
          ]
        }
      ]
    },
    {
      "cell_type": "code",
      "source": [
        "cutoff_grid = np.linspace(0.0,1.0,100)\n",
        "TPR = []                                                   # True Positive Rate.\n",
        "FPR = []"
      ],
      "metadata": {
        "id": "hf70XTpMUABd"
      },
      "execution_count": null,
      "outputs": []
    },
    {
      "cell_type": "code",
      "source": [
        "# Convert Y_test to binary numerical labels (assuming 'household' is the positive class)\n",
        "Y_test_binary = (Y_test == 'household').astype(int)\n",
        "\n",
        "for cutoff in cutoff_grid:\n",
        "    Y_pred_test_val = (Y_pred_test_prob > cutoff).astype(int)\n",
        "    conf_mat = metrics.confusion_matrix(Y_test_binary,Y_pred_test_val)\n",
        "    sensitivity = conf_mat[1,1]/(conf_mat[1,0]+conf_mat[1,1])\n",
        "    specificity = conf_mat[0,0]/(conf_mat[0,0]+conf_mat[0,1])\n",
        "    TPR.append(sensitivity)\n",
        "    FPR.append(1-specificity)"
      ],
      "metadata": {
        "id": "bo5G0eWcUCsm"
      },
      "execution_count": null,
      "outputs": []
    },
    {
      "cell_type": "code",
      "source": [
        "plt.plot(FPR,TPR,c='red',linewidth=1.0)\n",
        "plt.xlabel('False Positive Rate')\n",
        "plt.ylabel('True Positive Rate')\n",
        "plt.title('ROC Curve')\n",
        "plt.show()"
      ],
      "metadata": {
        "colab": {
          "base_uri": "https://localhost:8080/",
          "height": 472
        },
        "id": "NCQVXKRTUFj2",
        "outputId": "30ea9de0-a200-41dd-9f4c-ab9b2b78b162"
      },
      "execution_count": null,
      "outputs": [
        {
          "output_type": "display_data",
          "data": {
            "text/plain": [
              "<Figure size 640x480 with 1 Axes>"
            ],
            "image/png": "[encoded data removed]"
          },
          "metadata": {}
        }
      ]
    },
    {
      "cell_type": "code",
      "source": [
        "# Get the index of the 'household' class\n",
        "household_class_index = LL.classes_.tolist().index('household')\n",
        "\n",
        "# Get the probabilities for the 'household' class\n",
        "Y_pred_test_prob_household = Y_pred_test_prob[:, household_class_index]\n",
        "\n",
        "# Calculate FPR, TPR, and cutoffs using metrics.roc_curve\n",
        "FPR, TPR, cutoffs = metrics.roc_curve(Y_test, Y_pred_test_prob_household, pos_label='household')"
      ],
      "metadata": {
        "id": "GUwRTK_AUOT6"
      },
      "execution_count": null,
      "outputs": []
    },
    {
      "cell_type": "code",
      "source": [
        "plt.plot(FPR,TPR,c='red',linewidth=1.0)\n",
        "plt.xlabel('False Positive Rate')\n",
        "plt.ylabel('True Positive Rate')\n",
        "plt.title('ROC Curve for Household Class')\n",
        "plt.show()"
      ],
      "metadata": {
        "colab": {
          "base_uri": "https://localhost:8080/",
          "height": 472
        },
        "id": "D_vPxMlHUSIV",
        "outputId": "f8623f61-e0ae-4d2d-cd00-8ff21e080409"
      },
      "execution_count": null,
      "outputs": [
        {
          "output_type": "display_data",
          "data": {
            "text/plain": [
              "<Figure size 640x480 with 1 Axes>"
            ],
            "image/png": "[encoded data removed]"
          },
          "metadata": {}
        }
      ]
    },
    {
      "cell_type": "code",
      "source": [
        "auc = metrics.roc_auc_score(Y_test,Y_pred_test_prob, multi_class='ovr', average='weighted')\n",
        "print('AUC  = {}'.format(np.round(auc,3)))"
      ],
      "metadata": {
        "colab": {
          "base_uri": "https://localhost:8080/"
        },
        "id": "4Gj2CvFtUVPk",
        "outputId": "b286e647-dfda-4b5e-fba6-19d8393b8f90"
      },
      "execution_count": null,
      "outputs": [
        {
          "output_type": "stream",
          "name": "stdout",
          "text": [
            "AUC  = 0.489\n"
          ]
        }
      ]
    },
    {
      "cell_type": "code",
      "source": [],
      "metadata": {
        "id": "lV1Sgp0BUxva"
      },
      "execution_count": null,
      "outputs": []
    }
  ]
}