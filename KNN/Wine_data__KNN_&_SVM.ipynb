{
  "nbformat": 4,
  "nbformat_minor": 0,
  "metadata": {
    "colab": {
      "provenance": [],
      "include_colab_link": true
    },
    "kernelspec": {
      "name": "python3",
      "display_name": "Python 3"
    },
    "language_info": {
      "name": "python"
    }
  },
  "cells": [
    {
      "cell_type": "markdown",
      "metadata": {
        "id": "view-in-github",
        "colab_type": "text"
      },
      "source": [
        "<a href=\"https://colab.research.google.com/github/dhanyashree02/Samsung-innovation-Campus/blob/main/KNN/Wine_data__KNN_%26_SVM.ipynb\" target=\"_parent\"><img src=\"https://colab.research.google.com/assets/colab-badge.svg\" alt=\"Open In Colab\"/></a>"
      ]
    },
    {
      "cell_type": "code",
      "execution_count": 46,
      "metadata": {
        "id": "56JWEjz62f6N"
      },
      "outputs": [],
      "source": [
        "import numpy as np\n",
        "import time\n",
        "from sklearn.datasets import load_wine\n",
        "from sklearn.model_selection import train_test_split\n",
        "from sklearn.preprocessing import StandardScaler\n",
        "from sklearn.neighbors import KNeighborsClassifier\n",
        "from sklearn.svm import SVC\n",
        "from sklearn.metrics import accuracy_score, classification_report, roc_auc_score"
      ]
    },
    {
      "cell_type": "code",
      "source": [
        "# Load the breast cancer dataset\n",
        "df = load_wine()\n",
        "\n",
        "X = df.data\n",
        "\n",
        "y = df.target\n"
      ],
      "metadata": {
        "id": "fKVa2_xu37Bu"
      },
      "execution_count": 47,
      "outputs": []
    },
    {
      "cell_type": "code",
      "source": [
        "# Split data into training and testing sets\n",
        "X_train, X_test, y_train, y_test = train_test_split(X, y, test_size=0.3, random_state=42, stratify=y)\n"
      ],
      "metadata": {
        "id": "ScWUeIRL35RG"
      },
      "execution_count": 48,
      "outputs": []
    },
    {
      "cell_type": "code",
      "source": [
        "# Feature Scaling is critical for KNN and SVM\n",
        "scaler = StandardScaler()\n",
        "\n",
        "X_train_scaled = scaler.fit_transform(X_train)\n",
        "\n",
        "X_test_scaled = scaler.transform(X_test)"
      ],
      "metadata": {
        "id": "mP2c3Sco30_L"
      },
      "execution_count": 49,
      "outputs": []
    },
    {
      "cell_type": "markdown",
      "source": [
        "#K-Nearest Neighbors (KNN) Classifier\n",
        "KNN is a simple, instance-based learning algorithm that classifies new data points based on the majority class of its nearest neighbors. The performance is heavily influenced by the choice of 'k' (number of neighbors). For this example, we'll use a k of 5, which is a common starting point."
      ],
      "metadata": {
        "id": "1XAUXFE12uZW"
      }
    },
    {
      "cell_type": "code",
      "source": [
        "# Initialize and train the KNN Classifier\n",
        "start_time_knn = time.time()\n",
        "\n",
        "knn_model = KNeighborsClassifier(n_neighbors=5)\n",
        "\n",
        "knn_model.fit(X_train_scaled, y_train)\n",
        "\n",
        "end_time_knn = time.time()\n"
      ],
      "metadata": {
        "id": "PkxCfABn2rGR"
      },
      "execution_count": 50,
      "outputs": []
    },
    {
      "cell_type": "code",
      "source": [
        "print(\"=== K-Nearest Neighbors (KNN) ===\")\n",
        "print(f\"Accuracy: {accuracy_knn:.4f}\")\n",
        "\n",
        "print(f\"ROC AUC Score: {roc_auc_knn:.4f}\")\n",
        "\n",
        "print(f\"Training Time: {training_time_knn:.4f} seconds\")\n",
        "\n",
        "print(\"\\nClassification Report:\")\n",
        "print(classification_report(y_test, y_pred_knn))"
      ],
      "metadata": {
        "id": "DG9nEP4F3pdt",
        "colab": {
          "base_uri": "https://localhost:8080/"
        },
        "outputId": "15fd746a-0665-497c-b22d-14943667d765"
      },
      "execution_count": 51,
      "outputs": [
        {
          "output_type": "stream",
          "name": "stdout",
          "text": [
            "=== K-Nearest Neighbors (KNN) ===\n",
            "Accuracy: 0.9444\n",
            "ROC AUC Score: 0.9953\n",
            "Training Time: 0.0025 seconds\n",
            "\n",
            "Classification Report:\n",
            "              precision    recall  f1-score   support\n",
            "\n",
            "           0       1.00      1.00      1.00        18\n",
            "           1       1.00      0.86      0.92        21\n",
            "           2       0.83      1.00      0.91        15\n",
            "\n",
            "    accuracy                           0.94        54\n",
            "   macro avg       0.94      0.95      0.94        54\n",
            "weighted avg       0.95      0.94      0.94        54\n",
            "\n"
          ]
        }
      ]
    },
    {
      "cell_type": "markdown",
      "source": [
        "#Support Vector Machine (SVM) Classifier\n",
        "SVM is a powerful algorithm that finds the optimal hyperplane to separate different classes. The SVC (Support Vector Classifier) in scikit-learn is a versatile implementation that can use different kernels, such as the rbf (Radial Basis Function) kernel for non-linear decision boundaries."
      ],
      "metadata": {
        "id": "YhmCGPlm22dD"
      }
    },
    {
      "cell_type": "code",
      "source": [
        "# Initialize and train the SVM Classifier\n",
        "start_time_svm = time.time()\n",
        "svm_model = SVC(kernel='rbf',\n",
        "                C=1.0,\n",
        "                gamma='scale',\n",
        "                random_state=42)\n",
        "\n",
        "svm_model.fit(X_train_scaled, y_train)\n",
        "\n",
        "end_time_svm = time.time()"
      ],
      "metadata": {
        "id": "3LLokmc52y0L"
      },
      "execution_count": 52,
      "outputs": []
    },
    {
      "cell_type": "code",
      "source": [
        "print(\"\\n=== Support Vector Machine (SVM) ===\")\n",
        "print(f\"Accuracy: {accuracy_svm:.4f}\")\n",
        "\n",
        "print(f\"ROC AUC Score: {roc_auc_svm:.4f}\")\n",
        "\n",
        "print(f\"Training Time: {training_time_svm:.4f} seconds\")\n",
        "\n",
        "print(\"\\nClassification Report:\")\n",
        "print(classification_report(y_test, y_pred_svm))"
      ],
      "metadata": {
        "id": "9VRxBvTg3b54",
        "colab": {
          "base_uri": "https://localhost:8080/"
        },
        "outputId": "5a87b39e-00dc-4cb2-85b7-5d256710fd9b"
      },
      "execution_count": 53,
      "outputs": [
        {
          "output_type": "stream",
          "name": "stdout",
          "text": [
            "\n",
            "=== Support Vector Machine (SVM) ===\n",
            "Accuracy: 0.9815\n",
            "ROC AUC Score: 0.9750\n",
            "Training Time: 0.0078 seconds\n",
            "\n",
            "Classification Report:\n",
            "              precision    recall  f1-score   support\n",
            "\n",
            "           0       1.00      1.00      1.00        18\n",
            "           1       0.95      1.00      0.98        21\n",
            "           2       1.00      0.93      0.97        15\n",
            "\n",
            "    accuracy                           0.98        54\n",
            "   macro avg       0.98      0.98      0.98        54\n",
            "weighted avg       0.98      0.98      0.98        54\n",
            "\n"
          ]
        }
      ]
    },
    {
      "cell_type": "markdown",
      "source": [
        "When you run this code, you will likely see that both KNN and SVM achieve very high accuracy on this dataset. SVM, in particular, often performs exceptionally well because it's effective at finding a clear decision boundary even in high-dimensional space. While KNN is simple to implement, its performance can be more sensitive to the choice of 'k' and the distance metric."
      ],
      "metadata": {
        "id": "deKumJJT2-KL"
      }
    },
    {
      "cell_type": "code",
      "source": [],
      "metadata": {
        "id": "OkhJWhSV26y4"
      },
      "execution_count": null,
      "outputs": []
    },
    {
      "cell_type": "code",
      "metadata": {
        "colab": {
          "base_uri": "https://localhost:8080/"
        },
        "id": "2ff0be93",
        "outputId": "fb3357ca-1cf2-4b6b-8e8f-f6f1428ffeb0"
      },
      "source": [
        "print(\"=== K-Nearest Neighbors (KNN) ===\")\n",
        "print(f\"Accuracy: {accuracy_knn:.4f}\")\n",
        "\n",
        "print(f\"ROC AUC Score: {roc_auc_knn:.4f}\")\n",
        "\n",
        "print(f\"Training Time: {training_time_knn:.4f} seconds\")\n",
        "\n",
        "print(\"\\nClassification Report:\")\n",
        "print(classification_report(y_test, y_pred_knn))"
      ],
      "execution_count": 45,
      "outputs": [
        {
          "output_type": "stream",
          "name": "stdout",
          "text": [
            "=== K-Nearest Neighbors (KNN) ===\n",
            "Accuracy: 0.9444\n",
            "ROC AUC Score: 0.9953\n",
            "Training Time: 0.0025 seconds\n",
            "\n",
            "Classification Report:\n",
            "              precision    recall  f1-score   support\n",
            "\n",
            "           0       1.00      1.00      1.00        18\n",
            "           1       1.00      0.86      0.92        21\n",
            "           2       0.83      1.00      0.91        15\n",
            "\n",
            "    accuracy                           0.94        54\n",
            "   macro avg       0.94      0.95      0.94        54\n",
            "weighted avg       0.95      0.94      0.94        54\n",
            "\n"
          ]
        }
      ]
    }
  ]
}