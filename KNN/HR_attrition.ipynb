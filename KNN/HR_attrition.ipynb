{
  "nbformat": 4,
  "nbformat_minor": 0,
  "metadata": {
    "colab": {
      "provenance": [],
      "mount_file_id": "1oZIXJ7jj26Vo-1EHvD_r96Yw5OGOq6vI",
      "authorship_tag": "ABX9TyMtdOo3iIlS7mXWZSfwk+DM",
      "include_colab_link": true
    },
    "kernelspec": {
      "name": "python3",
      "display_name": "Python 3"
    },
    "language_info": {
      "name": "python"
    }
  },
  "cells": [
    {
      "cell_type": "markdown",
      "metadata": {
        "id": "view-in-github",
        "colab_type": "text"
      },
      "source": [
        "<a href=\"https://colab.research.google.com/github/dhanyashree02/Samsung-innovation-Campus/blob/main/KNN/HR_attrition.ipynb\" target=\"_parent\"><img src=\"https://colab.research.google.com/assets/colab-badge.svg\" alt=\"Open In Colab\"/></a>"
      ]
    },
    {
      "cell_type": "code",
      "source": [
        "data = '/content/drive/MyDrive/0.Samsung CSR AIML/Resources/SIC-Artificial-Intelligence/SIC_AI_Coding_Exercises/SIC_AI_Chapter_06_Coding_Exercises/HR Attrition.xlsx'"
      ],
      "metadata": {
        "id": "d39XVzR7vgtQ"
      },
      "execution_count": 4,
      "outputs": []
    },
    {
      "cell_type": "code",
      "execution_count": 5,
      "metadata": {
        "id": "8bntRqMotX5L"
      },
      "outputs": [],
      "source": [
        "import numpy as np\n",
        "import time\n",
        "import pandas as pd\n",
        "import matplotlib.pyplot as plt\n",
        "from sklearn.model_selection import train_test_split\n",
        "from sklearn.preprocessing import StandardScaler\n",
        "from sklearn.neighbors import KNeighborsClassifier\n",
        "from sklearn.svm import SVC\n",
        "from sklearn.metrics import accuracy_score, classification_report, roc_auc_score"
      ]
    },
    {
      "cell_type": "code",
      "source": [
        "df = pd.read_excel(data)\n",
        "\n",
        "# Separate features (X) and target (y)\n",
        "X = df.drop('Attrition', axis=1)\n",
        "y = df['Attrition']\n",
        "\n",
        "# Convert the target variable to numerical (0 for 'No', 1 for 'Yes')\n",
        "y = y.apply(lambda x: 1 if x == 'Yes' else 0)\n",
        "\n",
        "# Identify categorical and numerical columns\n",
        "categorical_cols = X.select_dtypes(include=['object']).columns\n",
        "numerical_cols = X.select_dtypes(include=np.number).columns"
      ],
      "metadata": {
        "id": "0aeOdngNt4yi"
      },
      "execution_count": 18,
      "outputs": []
    },
    {
      "cell_type": "code",
      "source": [
        "X_train, X_test, y_train, y_test = train_test_split(X, y, test_size=0.3, random_state=42, stratify=y)\n",
        "\n",
        "# Apply one-hot encoding to categorical columns after the split\n",
        "X_train = pd.get_dummies(X_train, columns=categorical_cols, drop_first=True)\n",
        "X_test = pd.get_dummies(X_test, columns=categorical_cols, drop_first=True)"
      ],
      "metadata": {
        "id": "T4IgPAmvvocy"
      },
      "execution_count": 13,
      "outputs": []
    },
    {
      "cell_type": "code",
      "source": [
        "scaler = StandardScaler()\n",
        "\n",
        "# Now all columns in X_train and X_test are numerical after one-hot encoding\n",
        "X_train_scaled = scaler.fit_transform(X_train)\n",
        "X_test_scaled = scaler.transform(X_test)"
      ],
      "metadata": {
        "id": "BrYY3_EkwJK_"
      },
      "execution_count": 14,
      "outputs": []
    },
    {
      "cell_type": "code",
      "source": [
        "start_time_knn = time.time()\n",
        "\n",
        "knn_model = KNeighborsClassifier(n_neighbors=5)\n",
        "\n",
        "knn_model.fit(X_train_scaled, y_train)\n",
        "\n",
        "end_time_knn = time.time()\n"
      ],
      "metadata": {
        "id": "ueOmwYAjwLXg"
      },
      "execution_count": 15,
      "outputs": []
    },
    {
      "cell_type": "code",
      "source": [
        "# Make predictions\n",
        "y_pred_knn = knn_model.predict(X_test_scaled)\n",
        "\n",
        "# Convert predictions to numerical (0 for 'No', 1 for 'Yes') if they are not already\n",
        "# The predict method might return the original labels, so we ensure they are numerical\n",
        "y_pred_knn_numerical = np.where(y_pred_knn == 'Yes', 1, 0)\n",
        "\n",
        "\n",
        "# Calculate metrics\n",
        "accuracy_knn = accuracy_score(y_test, y_pred_knn)\n",
        "roc_auc_knn = roc_auc_score(y_test, y_pred_knn_numerical)\n",
        "training_time_knn = end_time_knn - start_time_knn\n",
        "\n",
        "print(\"=== K-Nearest Neighbors (KNN) ===\")\n",
        "print(f\"Accuracy: {accuracy_knn:.4f}\")\n",
        "\n",
        "print(f\"ROC AUC Score: {roc_auc_knn:.4f}\")\n",
        "\n",
        "print(f\"Training Time: {training_time_knn:.4f} seconds\")\n",
        "\n",
        "print(\"\\nClassification Report:\")\n",
        "print(classification_report(y_test, y_pred_knn))"
      ],
      "metadata": {
        "colab": {
          "base_uri": "https://localhost:8080/"
        },
        "id": "mrHZqQOBxFQ4",
        "outputId": "ab4b3f44-617b-4abb-ec7a-9d45b666fd85"
      },
      "execution_count": 19,
      "outputs": [
        {
          "output_type": "stream",
          "name": "stdout",
          "text": [
            "=== K-Nearest Neighbors (KNN) ===\n",
            "Accuracy: 0.8390\n",
            "ROC AUC Score: 0.5285\n",
            "Training Time: 0.0111 seconds\n",
            "\n",
            "Classification Report:\n",
            "              precision    recall  f1-score   support\n",
            "\n",
            "          No       0.85      0.99      0.91       370\n",
            "         Yes       0.50      0.07      0.12        71\n",
            "\n",
            "    accuracy                           0.84       441\n",
            "   macro avg       0.67      0.53      0.52       441\n",
            "weighted avg       0.79      0.84      0.78       441\n",
            "\n"
          ]
        }
      ]
    },
    {
      "cell_type": "code",
      "source": [
        "# Initialize and train the SVM Classifier\n",
        "start_time_svm = time.time()\n",
        "svm_model = SVC(kernel='rbf',\n",
        "                C=1.0,\n",
        "                gamma='scale',\n",
        "                random_state=42)\n",
        "\n",
        "svm_model.fit(X_train_scaled, y_train)\n",
        "\n",
        "end_time_svm = time.time()"
      ],
      "metadata": {
        "id": "2sbTfPzVxHxi"
      },
      "execution_count": 20,
      "outputs": []
    },
    {
      "cell_type": "code",
      "source": [
        "# Make predictions with SVM\n",
        "y_pred_svm = svm_model.predict(X_test_scaled)\n",
        "\n",
        "# Convert predictions to numerical (0 for 'No', 1 for 'Yes') if they are not already\n",
        "# The predict method might return the original labels, so we ensure they are numerical\n",
        "y_pred_svm_numerical = np.where(y_pred_svm == 'Yes', 1, 0)\n",
        "\n",
        "# Calculate metrics\n",
        "accuracy_svm = accuracy_score(y_test, y_pred_svm)\n",
        "roc_auc_svm = roc_auc_score(y_test, y_pred_svm_numerical)\n",
        "training_time_svm = end_time_svm - start_time_svm\n",
        "\n",
        "print(\"\\n=== Support Vector Machine (SVM) ===\")\n",
        "print(f\"Accuracy: {accuracy_svm:.4f}\")\n",
        "\n",
        "print(f\"ROC AUC Score: {roc_auc_svm:.4f}\")\n",
        "\n",
        "print(f\"Training Time: {training_time_svm:.4f} seconds\")\n",
        "\n",
        "print(\"\\nClassification Report:\")\n",
        "print(classification_report(y_test, y_pred_svm))"
      ],
      "metadata": {
        "colab": {
          "base_uri": "https://localhost:8080/"
        },
        "id": "iBf__l26xeUj",
        "outputId": "95272c61-5b21-49c5-9457-7883f441976e"
      },
      "execution_count": 22,
      "outputs": [
        {
          "output_type": "stream",
          "name": "stdout",
          "text": [
            "\n",
            "=== Support Vector Machine (SVM) ===\n",
            "Accuracy: 0.8617\n",
            "ROC AUC Score: 0.5875\n",
            "Training Time: 0.0608 seconds\n",
            "\n",
            "Classification Report:\n",
            "              precision    recall  f1-score   support\n",
            "\n",
            "          No       0.86      0.99      0.92       370\n",
            "         Yes       0.81      0.18      0.30        71\n",
            "\n",
            "    accuracy                           0.86       441\n",
            "   macro avg       0.84      0.59      0.61       441\n",
            "weighted avg       0.86      0.86      0.82       441\n",
            "\n"
          ]
        }
      ]
    },
    {
      "cell_type": "code",
      "source": [],
      "metadata": {
        "id": "w-Iec-S5xio5"
      },
      "execution_count": null,
      "outputs": []
    }
  ]
}